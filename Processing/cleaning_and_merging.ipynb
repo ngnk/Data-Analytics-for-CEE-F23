{
 "cells": [
  {
   "cell_type": "markdown",
   "metadata": {
    "id": "aXn_Yd-AzJv0"
   },
   "source": [
    "# Data Preprocessing"
   ]
  },
  {
   "cell_type": "code",
   "execution_count": null,
   "metadata": {
    "colab": {
     "base_uri": "https://localhost:8080/"
    },
    "executionInfo": {
     "elapsed": 954,
     "status": "ok",
     "timestamp": 1699286238461,
     "user": {
      "displayName": "Charlie McAllister",
      "userId": "08885186579941464256"
     },
     "user_tz": 300
    },
    "id": "G0ftOHagzKl7",
    "outputId": "797641fb-299b-484f-baca-e0f4fe2610a2"
   },
   "outputs": [
    {
     "name": "stderr",
     "output_type": "stream",
     "text": [
      "<ipython-input-48-9ec974cee99e>:4: DtypeWarning: Columns (66,78,92,103,362,363,415,471,472,474,475,477,479,483,484,487,489,490,491,492,493,494,495,496,497,498,499,500,501,527,528,529,530,531,532,533,534,535,536,537,538,539,540,541,542,543,544,545,546,547,548,549,550,551,552,553,554) have mixed types. Specify dtype option on import or set low_memory=False.\n",
      "  df = pd.read_csv('FDOT_data.csv')\n"
     ]
    }
   ],
   "source": [
    "import pandas as pd\n",
    "import numpy as np\n",
    "\n",
    "df = pd.read_csv('FDOT_data.csv')\n",
    "#df"
   ]
  },
  {
   "cell_type": "code",
   "execution_count": null,
   "metadata": {
    "id": "3wBtxvXjzzXD"
   },
   "outputs": [],
   "source": [
    "# pulling the wanted columns\n",
    "\n",
    "predictors = ['CYCLE', 'NEWYR', 'DEFREAS', 'ESALS', 'PAVEMENT TYPE',\n",
    "              'MAXSPEED', 'SURFTYPE', 'YR', 'SURF2023', 'FCLASS', 'FC',\n",
    "              'DEFAGE', 'DEFYR', 'FIRSTYRCRK65']\n",
    "identifiers = ['RDWYID','RDWY', 'BMP', 'EMP', 'CONTYDOT', 'LANES', 'LEN', 'LM', 'DISTRICT']\n",
    "df_typeyr = df.loc[:, 'TYPE1976':'TYPE2023']\n",
    "df_crkratings = df.loc [:, 'CRK1976':'CRK2023']\n",
    "\n",
    "df_filtered = pd.concat([df[identifiers + predictors], df_typeyr, df_crkratings], axis=1)\n"
   ]
  },
  {
   "cell_type": "code",
   "execution_count": null,
   "metadata": {
    "colab": {
     "base_uri": "https://localhost:8080/"
    },
    "executionInfo": {
     "elapsed": 836,
     "status": "ok",
     "timestamp": 1699286242279,
     "user": {
      "displayName": "Charlie McAllister",
      "userId": "08885186579941464256"
     },
     "user_tz": 300
    },
    "id": "y5OKc9jvVEFe",
    "outputId": "efe5cbc6-305a-4c6b-b6ec-fa7ce098eaad"
   },
   "outputs": [
    {
     "data": {
      "text/plain": [
       "(9304, 119)"
      ]
     },
     "execution_count": 50,
     "metadata": {},
     "output_type": "execute_result"
    }
   ],
   "source": [
    "df_filtered\n",
    "df_filtered.to_csv('filtered_data.csv', index=False)\n",
    "df_filtered.shape"
   ]
  },
  {
   "cell_type": "code",
   "execution_count": null,
   "metadata": {
    "colab": {
     "base_uri": "https://localhost:8080/"
    },
    "executionInfo": {
     "elapsed": 195,
     "status": "ok",
     "timestamp": 1699286243241,
     "user": {
      "displayName": "Charlie McAllister",
      "userId": "08885186579941464256"
     },
     "user_tz": 300
    },
    "id": "Td7uZxhM9JLi",
    "outputId": "6c4bc9a9-4f00-4ed4-9af6-97195abbf785"
   },
   "outputs": [
    {
     "data": {
      "text/plain": [
       "(67, 194)"
      ]
     },
     "execution_count": 51,
     "metadata": {},
     "output_type": "execute_result"
    }
   ],
   "source": [
    "# processing the climate files, tried to do a for loop thing instead of repeating it all like this but couldn't figure it out\n",
    "contydot = pd.read_csv('contydot.csv')\n",
    "contydot.rename(columns={'CONTYNAM': 'County'}, inplace=True)\n",
    "\n",
    "precipitation = pd.read_csv('precipitation.csv')\n",
    "temp_avg = pd.read_csv('temperature_avg.csv')\n",
    "temp_min = pd.read_csv('temperature_min.csv')\n",
    "temp_max = pd.read_csv('temperature_max.csv')\n",
    "#climate_data = ['precipitation', 'temp_avg', 'temp_min', 'temp_max']\n",
    "\n",
    "precipitation = pd.concat([precipitation['County'], precipitation.loc[:, '1976':'2023']], axis=1)\n",
    "temp_avg = pd.concat([temp_avg['County'], temp_avg.loc[:, '1976':'2023']], axis=1)\n",
    "temp_min = pd.concat([temp_min['County'], temp_min.loc[:, '1976':'2023']], axis=1)\n",
    "temp_max = pd.concat([temp_max['County'], temp_max.loc[:, '1976':'2023']], axis=1)\n",
    "\n",
    "precipitation.columns = ['County'] + ['PREC' + str(year) for year in range(1976, 2023 + 1)]\n",
    "temp_avg.columns = ['County'] + ['AVGTEM' + str(year) for year in range(1976, 2023 + 1)]\n",
    "temp_min.columns = ['County'] + ['MINTEM' + str(year) for year in range(1976, 2023 + 1)]\n",
    "temp_max.columns = ['County'] + ['MAXTEM' + str(year) for year in range(1976, 2023 + 1)]\n",
    "\n",
    "precipitation = pd.merge(contydot[['CONTYDOT', 'County']], precipitation, on='County', how='right')\n",
    "temp_avg = pd.merge(contydot[['CONTYDOT', 'County']], temp_avg, on='County', how='right')\n",
    "temp_min = pd.merge(contydot[['CONTYDOT', 'County']], temp_min, on='County', how='right')\n",
    "temp_max = pd.merge(contydot[['CONTYDOT', 'County']], temp_max, on='County', how='right')\n",
    "\n",
    "merged_climate = pd.concat([precipitation, temp_avg, temp_min, temp_max], axis=1)\n",
    "merged_climate = merged_climate.loc[:, ~merged_climate.columns.duplicated()]\n",
    "merged_climate.shape"
   ]
  },
  {
   "cell_type": "code",
   "execution_count": null,
   "metadata": {
    "colab": {
     "base_uri": "https://localhost:8080/"
    },
    "executionInfo": {
     "elapsed": 3382,
     "status": "ok",
     "timestamp": 1699286249121,
     "user": {
      "displayName": "Charlie McAllister",
      "userId": "08885186579941464256"
     },
     "user_tz": 300
    },
    "id": "zdFXyQKaZXcZ",
    "outputId": "02d013d2-4972-4033-84ec-8c0e9404679d"
   },
   "outputs": [
    {
     "data": {
      "text/plain": [
       "(9304, 312)"
      ]
     },
     "execution_count": 52,
     "metadata": {},
     "output_type": "execute_result"
    }
   ],
   "source": [
    "# merging climate data to road segment data based on CONTYDOT\n",
    "df_climate = pd.merge(df_filtered, merged_climate, on='CONTYDOT', how='left')\n",
    "df_climate.to_csv('finalcombineddata.csv', index=False)\n",
    "df_climate.shape"
   ]
  },
  {
   "cell_type": "markdown",
   "metadata": {
    "id": "GvBMUd80s32k"
   },
   "source": [
    "# Data Filtering"
   ]
  },
  {
   "cell_type": "code",
   "execution_count": null,
   "metadata": {
    "colab": {
     "base_uri": "https://localhost:8080/"
    },
    "executionInfo": {
     "elapsed": 3626,
     "status": "ok",
     "timestamp": 1699286253809,
     "user": {
      "displayName": "Charlie McAllister",
      "userId": "08885186579941464256"
     },
     "user_tz": 300
    },
    "id": "pVMEYIiEs9Uo",
    "outputId": "67862130-ac65-42cf-d32f-f27fc14ab635"
   },
   "outputs": [
    {
     "name": "stdout",
     "output_type": "stream",
     "text": [
      "Before the selection criteria were applied, there were 9304 rows.\n",
      "After the selection criteria were applied, there are 3414 rows.\n",
      "That means that we retained 36.69% of the data.\n"
     ]
    }
   ],
   "source": [
    "# Define columns of interest\n",
    "crk_years = [str(year) for year in range(1976, 2023)]\n",
    "crk_columns = [f'CRK{year}' for year in crk_years]\n",
    "\n",
    "# Extract columns related to ratings and predictors\n",
    "#df_id = df_climate.loc[:, 'RDWYID':'EMP']\n",
    "#df_predictors = df_climate.loc[:, 'MAXSPEED':'FC']\n",
    "#df_cycle = df_climate.loc[:, 'cyclastyr':'cycdefage']\n",
    "\n",
    "# df_ratings = df_climate.loc[:, crk_columns]\n",
    "\n",
    "\n",
    "# Combine relevant data into a single DataFrame\n",
    "# df_combined = pd.concat([df_id, df_cycle, df_predictors, df_ratings], axis=1)\n",
    "df_crk = df_climate.loc[:, crk_columns]\n",
    "\n",
    "selected_rows = [False] * len(df_climate)# Initialize a list to store rows that meet criteria\n",
    "\n",
    "# Iterate through the DataFrame to apply selection criteria\n",
    "for index, row in df_crk.iterrows():\n",
    "    condition = []\n",
    "    cyc_new_year_str = df_climate.loc[index, 'NEWYR']\n",
    "    cyc_last_year_str = df_climate.loc[index, 'YR']\n",
    "\n",
    "    try:\n",
    "        cyc_new_year = int(cyc_new_year_str)\n",
    "        cyc_last_year = int(cyc_last_year_str)\n",
    "    except ValueError:\n",
    "        # Handle invalid values (e.g., non-numeric characters)\n",
    "        continue  # Skip this row and continue with the next one\n",
    "\n",
    "    age_vector = []\n",
    "    quality_vector = []\n",
    "    i = 0\n",
    "\n",
    "    age_vector = []\n",
    "    quality_vector = []\n",
    "    i = 0\n",
    "\n",
    "    for col in df_crk.columns:\n",
    "        year = int(col[3:])\n",
    "        col_name = col\n",
    "\n",
    "        if (year >= cyc_new_year) and (year <= cyc_last_year):\n",
    "            age_vector.append(i)\n",
    "            i += 1\n",
    "            quality = df_crk.loc[index, col]\n",
    "\n",
    "            if pd.notna(quality):\n",
    "                quality_vector.append(quality)\n",
    "            else:\n",
    "                condition.append(False)\n",
    "\n",
    "        if len(quality_vector) < len(age_vector):\n",
    "            condition.append(False)\n",
    "\n",
    "        for n in range(1, len(quality_vector)):\n",
    "            if quality_vector[n] > quality_vector[n - 1]:\n",
    "                condition.append(False)\n",
    "\n",
    "        if 0 in quality_vector:\n",
    "            condition.append(False)\n",
    "\n",
    "    result = all(condition)\n",
    "    selected_rows[index] = (result)\n",
    "\n",
    "df_selected = df_climate[selected_rows] # Create a new DataFrame with selected rows\n",
    "# Predictor columns defined above\n",
    "predictor_columns = ['CYCLE', 'MAXSPEED', 'ESALS'] # Define predictor columns\n",
    "\n",
    "# Filter rows with NaNs or 0s in predictor columns\n",
    "df_selected = df_selected.dropna(subset=predictor_columns)\n",
    "df_selected = df_selected[df_selected[predictor_columns].ne(0).all(axis=1)]\n",
    "\n",
    "df_selected = df_selected.drop_duplicates() # Remove duplicate rows\n",
    "# df_selected.to_csv(\"cleanedPredictorsAndRatings.csv\", index=False) # Save the cleaned DataFrame to a CSV file\n",
    "\n",
    "# Calculate and print the percentage of retained data\n",
    "unclean_length = len(df)\n",
    "clean_length = len(df_selected)\n",
    "percentage_retained = (clean_length / unclean_length) * 100\n",
    "\n",
    "print(f'Before the selection criteria were applied, there were {unclean_length} rows.')\n",
    "print(f'After the selection criteria were applied, there are {clean_length} rows.')\n",
    "print(f'That means that we retained {percentage_retained:.2f}% of the data.')"
   ]
  },
  {
   "cell_type": "markdown",
   "metadata": {
    "id": "VpsOVxpwwkXi"
   },
   "source": [
    "# Feature Engineering"
   ]
  },
  {
   "cell_type": "code",
   "execution_count": null,
   "metadata": {
    "colab": {
     "base_uri": "https://localhost:8080/"
    },
    "executionInfo": {
     "elapsed": 6810,
     "status": "ok",
     "timestamp": 1699286265198,
     "user": {
      "displayName": "Charlie McAllister",
      "userId": "08885186579941464256"
     },
     "user_tz": 300
    },
    "id": "k20nwK1aCq8K",
    "outputId": "10709cec-01dd-43cb-f96d-a8a3b238f611"
   },
   "outputs": [
    {
     "name": "stdout",
     "output_type": "stream",
     "text": [
      "    RDWYID RDWY     BMP     EMP  CONTYDOT LANES    LEN     LM  DISTRICT  \\\n",
      "0  1010000    C  13.274  13.469         1     2  0.195   0.39         1   \n",
      "1  1010000    C  13.469  14.160         1     2  0.691  1.382         1   \n",
      "2  1010000    C  14.160  15.133         1     2  0.973  1.946         1   \n",
      "3  1010000    C  15.133  15.235         1     2  0.102  0.204         1   \n",
      "4  1010000    L   0.000   1.150         1     2  1.150    2.3         1   \n",
      "\n",
      "   CYCLE  ... MAXTEM2016 MAXTEM2017 MAXTEM2018 MAXTEM2019 MAXTEM2020  \\\n",
      "0      3  ...      84.95      86.28      85.68       86.0      85.97   \n",
      "1      4  ...      84.95      86.28      85.68       86.0      85.97   \n",
      "2      0  ...      84.95      86.28      85.68       86.0      85.97   \n",
      "3      3  ...      84.95      86.28      85.68       86.0      85.97   \n",
      "4      4  ...      84.95      86.28      85.68       86.0      85.97   \n",
      "\n",
      "  MAXTEM2021  MAXTEM2022 MAXTEM2023 ANNUAL_DETERIORATION_RATE_x  \\\n",
      "0      85.41        85.5       88.1                   -0.050000   \n",
      "1      85.41        85.5       88.1                   -0.070833   \n",
      "2      85.41        85.5       88.1                         NaN   \n",
      "3      85.41        85.5       88.1                    0.012500   \n",
      "4      85.41        85.5       88.1                         NaN   \n",
      "\n",
      "  ANNUAL_DETERIORATION_RATE_y  \n",
      "0                   -0.024479  \n",
      "1                   -0.024479  \n",
      "2                   -0.024479  \n",
      "3                   -0.024479  \n",
      "4                   -0.024479  \n",
      "\n",
      "[5 rows x 314 columns]\n"
     ]
    }
   ],
   "source": [
    "# Convert 'CRK' columns to numeric, treating non-numeric values as NaN\n",
    "for year in range(1976, 2024):\n",
    "    col_name = f'CRK{year}'\n",
    "    df_climate[col_name] = pd.to_numeric(df_climate[col_name], errors='coerce')\n",
    "\n",
    "# Calculate the annual deterioration rate\n",
    "start_year = 1976\n",
    "end_year = 2023\n",
    "df_climate['ANNUAL_DETERIORATION_RATE'] = (df_climate[f'CRK{end_year}'] - df_climate[f'CRK{start_year}']) / (end_year - start_year + 1)\n",
    "\n",
    "# Group by 'RDWYID' and calculate the average annual deterioration rate\n",
    "average_annual_deterioration = df_climate.groupby('RDWYID')['ANNUAL_DETERIORATION_RATE'].mean().reset_index()\n",
    "\n",
    "# Save the result to a new CSV file\n",
    "average_annual_deterioration.to_csv('average_annual_deterioration.csv', index=False)\n",
    "\n",
    "\n",
    "# Merge the average annual deterioration rate back into df_climate based on 'RDWYID'\n",
    "df_climate = df_climate.merge(average_annual_deterioration, on='RDWYID', how='left')\n",
    "\n",
    "# The 'average annual deterioration rate' column is now part of df_climate\n",
    "\n",
    "# Save the updated DataFrame to a new CSV file\n",
    "df_climate.to_csv('df_climate_with_average_deterioration_rate.csv', index=False)\n",
    "\n",
    "# Check the first few rows of the updated DataFrame\n",
    "print(df_climate.head())\n",
    "\n",
    "\n",
    "\n",
    "\n"
   ]
  },
  {
   "cell_type": "code",
   "execution_count": null,
   "metadata": {
    "colab": {
     "base_uri": "https://localhost:8080/",
     "height": 564
    },
    "executionInfo": {
     "elapsed": 787,
     "status": "ok",
     "timestamp": 1699286465163,
     "user": {
      "displayName": "Charlie McAllister",
      "userId": "08885186579941464256"
     },
     "user_tz": 300
    },
    "id": "ew4S_FWwWf6m",
    "outputId": "e5b2a4a3-faed-4671-8835-4644bf52b221"
   },
   "outputs": [
    {
     "data": {
      "image/png": "[encoded data removed]",
      "text/plain": [
       "<Figure size 1200x600 with 1 Axes>"
      ]
     },
     "metadata": {},
     "output_type": "display_data"
    }
   ],
   "source": [
    "import matplotlib.pyplot as plt\n",
    "\n",
    "# Assuming 'df_climate' contains the DataFrame with 'RDWYID' and 'average annual deterioration rate' columns\n",
    "filtered_data = df_climate[df_climate['ANNUAL_DETERIORATION_RATE_x'] <= 0]\n",
    "# Create a scatterplot\n",
    "plt.figure(figsize=(12, 6))\n",
    "plt.scatter(filtered_data['RDWYID'], filtered_data['ANNUAL_DETERIORATION_RATE_x'], s=20, c='b', marker='o')\n",
    "plt.title('Scatterplot of RDWYID vs. Average Annual Deterioration Rate (Negative Only)')\n",
    "plt.xlabel('RDWYID')\n",
    "plt.ylabel('Average Annual Deterioration Rate')\n",
    "plt.grid(True)\n",
    "plt.show()\n",
    "\n",
    "\n",
    "\n",
    "\n",
    "\n",
    "\n"
   ]
  },
  {
   "cell_type": "markdown",
   "metadata": {
    "id": "e_jotHUvwo-2"
   },
   "source": [
    "# Pilot Study Selection"
   ]
  },
  {
   "cell_type": "code",
   "execution_count": null,
   "metadata": {
    "colab": {
     "base_uri": "https://localhost:8080/",
     "height": 506
    },
    "executionInfo": {
     "elapsed": 189,
     "status": "error",
     "timestamp": 1699274938714,
     "user": {
      "displayName": "Charlie McAllister",
      "userId": "08885186579941464256"
     },
     "user_tz": 300
    },
    "id": "4Fo-RFcnrCI7",
    "outputId": "8737501f-16af-4404-dc65-22ef0ffd3820"
   },
   "outputs": [],
   "source": [
    "# Sort the DataFrame by the 'average annual deterioration rate' column in ascending order\n",
    "df_sorted = df_climate.sort_values(by='ANNUAL_DETERIORATION_RATE_y ', ascending=True)\n",
    "\n",
    "# Get the 5 cycles with the lowest annual average deterioration rate\n",
    "lowest_5 = df_sorted.head(5)\n",
    "\n",
    "# Sort the DataFrame by the 'average annual deterioration rate' column in descending order\n",
    "df_sorted = df_climate.sort_values(by='ANNUAL_DETERIORATION_RATE_y ', ascending=False)\n",
    "\n",
    "# Get the 5 cycles with the highest annual average deterioration rate\n",
    "highest_5 = df_sorted.head(5)\n",
    "\n",
    "# Display the 5 cycles with the lowest and 5 cycles with the highest annual average deterioration rate\n",
    "print(\"5 Cycles with the Lowest Annual Average Deterioration Rate:\")\n",
    "print(lowest_5)\n",
    "\n",
    "print(\"5 Cycles with the Highest Annual Average Deterioration Rate:\")\n",
    "print(highest_5)\n",
    "\n"
   ]
  },
  {
   "cell_type": "code",
   "execution_count": null,
   "metadata": {
    "colab": {
     "base_uri": "https://localhost:8080/",
     "height": 471
    },
    "executionInfo": {
     "elapsed": 108,
     "status": "error",
     "timestamp": 1699274770056,
     "user": {
      "displayName": "Charlie McAllister",
      "userId": "08885186579941464256"
     },
     "user_tz": 300
    },
    "id": "fyiVIMMawr9-",
    "outputId": "457171f9-938b-4a12-fd4c-f818a0ada13e"
   },
   "outputs": [],
   "source": [
    "# Pilot Study will consist of the cycles with the 5 highest and 5 lowest deterioration rates\n",
    "# Sort the cleaned data by the deteriorate rate column and  put the\n",
    "\n",
    "# Sort the DataFrame by the \"deterioration_rate\" column in ascending order\n",
    "df_sorted = df.sort_values(by='ANNUAL_DETERIORATION_RATE_y')\n",
    "\n",
    "# Select the rows with the 5 lowest deterioration rates\n",
    "lowest_rates = df_sorted.head(5)\n",
    "\n",
    "# Select the rows with the 5 highest deterioration rates\n",
    "highest_rates = df_sorted.tail(5)\n",
    "\n",
    "# Concatenate the highest and lowest rate DataFrames\n",
    "pilot_study = pd.concat([lowest_rates, highest_rates])\n",
    "\n",
    "# Reset the index for the combined DataFrame\n",
    "pilot_study = pilot_study.reset_index(drop=True)"
   ]
  }
 ],
 "metadata": {
  "colab": {
   "provenance": []
  },
  "kernelspec": {
   "display_name": "Python 3",
   "name": "python3"
  },
  "language_info": {
   "name": "python"
  }
 },
 "nbformat": 4,
 "nbformat_minor": 0
}
