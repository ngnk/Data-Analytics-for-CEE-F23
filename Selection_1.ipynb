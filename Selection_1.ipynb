{
 "cells": [
  {
   "cell_type": "code",
   "execution_count": 18,
   "metadata": {},
   "outputs": [],
   "source": [
    "import pandas as pd\n",
    "import numpy as np\n",
    "path = ''\n",
    "data = pd.read_csv(path)"
   ]
  },
  {
   "cell_type": "markdown",
   "metadata": {},
   "source": [
    "> Multilinear regression"
   ]
  },
  {
   "cell_type": "code",
   "execution_count": 20,
   "metadata": {},
   "outputs": [],
   "source": [
    "import statsmodels.api as sm\n",
    "\n",
    "# One-hot encoding \n",
    "data_encoded = pd.get_dummies(data, columns=['SURFTYPE', 'FC'], drop_first=True)\n",
    "\n",
    "# Separating the response variable 'Rate' and the predictors\n",
    "X = data_encoded.drop('Rate', axis=1)\n",
    "y = data_encoded['Rate']\n",
    "X = sm.add_constant(X)\n",
    "\n",
    "# Fit the multilinear regression model\n",
    "model = sm.OLS(y, X).fit()\n",
    "# print(model.summary())"
   ]
  },
  {
   "cell_type": "markdown",
   "metadata": {},
   "source": [
    "> Partial Least Squares (PLS) Regression"
   ]
  },
  {
   "cell_type": "code",
   "execution_count": 22,
   "metadata": {},
   "outputs": [],
   "source": [
    "from sklearn.model_selection import train_test_split\n",
    "from sklearn.preprocessing import OneHotEncoder\n",
    "from sklearn.compose import ColumnTransformer\n",
    "from sklearn.pipeline import Pipeline\n",
    "from sklearn.cross_decomposition import PLSSVD\n",
    "\n",
    "X = data.drop('Rate', axis=1)\n",
    "y = data['Rate']\n",
    "\n",
    "# One-hot encoding \n",
    "categorical_features = ['SURFTYPE', 'FC']\n",
    "one_hot_encoder = OneHotEncoder(handle_unknown='ignore')\n",
    "preprocessor = ColumnTransformer(\n",
    "    transformers=[\n",
    "        ('cat', one_hot_encoder, categorical_features)\n",
    "    ], remainder='passthrough', sparse_threshold=0)\n",
    "\n",
    "# PLS Singular Value Decomposition (PLSSVD) model (adjust n_components as needed)\n",
    "pls_svd = PLSSVD(n_components=1)\n",
    "\n",
    "# Creating a pipeline\n",
    "pipeline = Pipeline(steps=[('preprocessor', preprocessor),\n",
    "                           ('pls', pls_svd)])\n",
    "\n",
    "# Fit the model\n",
    "pipeline.fit(X, y)\n",
    "\n",
    "# Extract the loadings\n",
    "loadings = pipeline.named_steps['pls'].x_weights_\n",
    "\n",
    "# Getting the feature names after one-hot encoding\n",
    "feature_names = (pipeline.named_steps['preprocessor']\n",
    "                 .named_transformers_['cat']\n",
    "                 .get_feature_names_out(input_features=categorical_features))\n",
    "feature_names = np.concatenate((feature_names, \n",
    "                                [f for f in X.columns if f not in categorical_features]))\n",
    "\n",
    "# Mapping loadings to feature names\n",
    "loadings_df = pd.DataFrame(loadings, index=feature_names)\n",
    "\n",
    "# Displaying the loadings\n",
    "# print(loadings_df)"
   ]
  },
  {
   "cell_type": "markdown",
   "metadata": {},
   "source": [
    "> Ridge Regression w/ cross-validation, regularization"
   ]
  },
  {
   "cell_type": "code",
   "execution_count": 24,
   "metadata": {},
   "outputs": [],
   "source": [
    "from sklearn.linear_model import RidgeCV\n",
    "from sklearn.metrics import mean_squared_error\n",
    "\n",
    "# Separate the features and the target\n",
    "X = data.drop('Rate', axis=1)\n",
    "y = data['Rate']\n",
    "\n",
    "# One-hot encoding for categorical variables\n",
    "categorical_features = ['SURFTYPE', 'FC']\n",
    "one_hot_encoder = OneHotEncoder(handle_unknown='ignore')\n",
    "\n",
    "preprocessor = ColumnTransformer(\n",
    "    transformers=[\n",
    "        ('cat', one_hot_encoder, categorical_features)\n",
    "    ],\n",
    "    remainder='passthrough'\n",
    ")\n",
    "\n",
    "# Split the dataset\n",
    "X_train, X_test, y_train, y_test = train_test_split(X, y, test_size=0.2, random_state=0)\n",
    "\n",
    "# Ridge regression with cross-validation\n",
    "ridge_cv = RidgeCV(alphas=np.logspace(-6, 6, 13), store_cv_values=True)\n",
    "\n",
    "# Create and fit the pipeline\n",
    "pipeline = Pipeline([\n",
    "    ('preprocessor', preprocessor),\n",
    "    ('regressor', ridge_cv)\n",
    "])\n",
    "pipeline.fit(X_train, y_train)\n",
    "\n",
    "# Evaluate the model\n",
    "y_pred = pipeline.predict(X_test)\n",
    "mse = mean_squared_error(y_test, y_pred)\n",
    "\n",
    "# Extract model details\n",
    "best_alpha = ridge_cv.alpha_\n",
    "coefficients = pipeline.named_steps['regressor'].coef_\n",
    "encoded_feature_names = pipeline.named_steps['preprocessor'].named_transformers_['cat'].get_feature_names_out(categorical_features)\n",
    "feature_names = np.concatenate([encoded_feature_names, np.array(X.drop(categorical_features, axis=1).columns)])\n",
    "coefficients_with_names = dict(zip(feature_names, coefficients))\n",
    "\n",
    "# Print results\n",
    "# print(f'Best alpha: {best_alpha}')\n",
    "# print(f'Mean Squared Error: {mse}')\n",
    "# print('Coefficients:')\n",
    "# for feature, coeff in coefficients_with_names.items():\n",
    "#     print(f'{feature}: {coeff}')\n"
   ]
  }
 ],
 "metadata": {
  "kernelspec": {
   "display_name": "base",
   "language": "python",
   "name": "python3"
  },
  "language_info": {
   "codemirror_mode": {
    "name": "ipython",
    "version": 3
   },
   "file_extension": ".py",
   "mimetype": "text/x-python",
   "name": "python",
   "nbconvert_exporter": "python",
   "pygments_lexer": "ipython3",
   "version": "3.9.13"
  }
 },
 "nbformat": 4,
 "nbformat_minor": 2
}
