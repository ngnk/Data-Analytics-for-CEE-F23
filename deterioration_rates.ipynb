{
 "cells": [
  {
   "cell_type": "markdown",
   "metadata": {},
   "source": [
    "> Calculating deterioration rates - moving average"
   ]
  },
  {
   "cell_type": "code",
   "execution_count": 1,
   "metadata": {},
   "outputs": [
    {
     "name": "stderr",
     "output_type": "stream",
     "text": [
      "/var/folders/8x/mlfw4nlj1yqf1f3l8kh63n6w0000gq/T/ipykernel_48179/814368723.py:16: RuntimeWarning: invalid value encountered in double_scalars\n",
      "  deterioration_rate = (moving_average.iloc[-1] - moving_average.iloc[0]) / (len(moving_average) - 1)\n"
     ]
    }
   ],
   "source": [
    "import pandas as pd\n",
    "import numpy as np\n",
    "from sklearn.linear_model import LinearRegression\n",
    "\n",
    "# Function to calculate the moving average deterioration rate\n",
    "def moving_Average(row, window_size=3):\n",
    "    # Get only the CRK ratings for the row, drop NaNs\n",
    "    ratings = row.dropna()\n",
    "    if len(ratings) < window_size:  # Not enough data to calculate a moving average\n",
    "        return np.nan\n",
    "    \n",
    "    # Calculate the moving average\n",
    "    moving_average = ratings.rolling(window=window_size).mean().dropna()\n",
    "    \n",
    "    # Calculate the rate of deterioration as the difference between the first and last moving average\n",
    "    deterioration_rate = (moving_average.iloc[-1] - moving_average.iloc[0]) / (len(moving_average) - 1)\n",
    "    \n",
    "    # Return the absolute value of the deterioration rate\n",
    "    return abs(deterioration_rate)\n",
    "\n",
    "# Load the dataset\n",
    "cycle_data = pd.read_csv('/Users/banna/Desktop/CEE 4803/Project/Deterioration Rate/cCycle.csv')\n",
    "\n",
    "# Define crack_data_numeric_new by selecting columns starting with 'CRKt' and converting to numeric\n",
    "crack_columns_new = [col for col in cycle_data.columns if col.startswith('CRKt')]\n",
    "crack_data_new = cycle_data[crack_columns_new]\n",
    "crack_data_numeric_new = crack_data_new.apply(pd.to_numeric, errors='coerce')\n",
    "\n",
    "# Apply the moving_Average function\n",
    "deterioration_rates_moving_average_new = crack_data_numeric_new.apply(moving_Average, axis=1)\n",
    "\n",
    "# Append the deterioration rates as a new column to the original dataframe\n",
    "cycle_data['Deterioration_Rate_Moving_Avg'] = deterioration_rates_moving_average_new\n",
    "\n",
    "# Drop rows where the deterioration rate is NaN or zero\n",
    "cycle_data_cleaned = cycle_data.dropna(subset=['Deterioration_Rate_Moving_Avg'])\n",
    "cycle_data_cleaned = cycle_data_cleaned[cycle_data_cleaned['Deterioration_Rate_Moving_Avg'] != 0]\n",
    "\n",
    "# Save the cleaned dataframe to a new CSV file\n",
    "cycle_data_cleaned.to_csv('deterioration_rates2.csv', index=False)\n"
   ]
  },
  {
   "cell_type": "code",
   "execution_count": 2,
   "metadata": {},
   "outputs": [],
   "source": [
    "# import pandas as pd\n",
    "# import numpy as np\n",
    "\n",
    "# # Function to calculate the moving average deterioration rate\n",
    "# def moving_Average(row, window_size=3):\n",
    "#     # Get only the CRK ratings for the row, drop NaNs\n",
    "#     ratings = row.dropna()\n",
    "#     if len(ratings) < window_size:  # Not enough data to calculate a moving average\n",
    "#         return np.nan\n",
    "    \n",
    "#     # Calculate the moving average\n",
    "#     moving_average = ratings.rolling(window=window_size).mean().dropna()\n",
    "    \n",
    "#     # Calculate the rate of deterioration as the difference between the first and last moving average\n",
    "#     deterioration_rate = (moving_average.iloc[-1] - moving_average.iloc[0]) / (len(moving_average) - 1)\n",
    "    \n",
    "#     # Return the absolute value of the deterioration rate\n",
    "#     return abs(deterioration_rate)\n",
    "\n",
    "# # Load the dataset\n",
    "# cycle_data = pd.read_csv('/Users/banna/Desktop/CEE 4803/Project/Deterioration Rate/cCycle.csv')\n",
    "\n",
    "# # Define crack_data_numeric_new by selecting columns starting with 'CRKt' and converting to numeric\n",
    "# crack_columns_new = [col for col in cycle_data.columns if col.startswith('CRKt')]\n",
    "# crack_data_new = cycle_data[crack_columns_new]\n",
    "# crack_data_numeric_new = crack_data_new.apply(pd.to_numeric, errors='coerce')\n",
    "\n",
    "# # Apply the moving_Average function\n",
    "# deterioration_rates_moving_average_new = crack_data_numeric_new.apply(moving_Average, axis=1)\n",
    "\n",
    "# # Append the deterioration rates as a new column to the original dataframe\n",
    "# cycle_data['Deterioration_Rate_Moving_Avg'] = deterioration_rates_moving_average_new\n",
    "\n",
    "# # Save the dataframe to a new CSV file without dropping rows where the deterioration rate is zero or NaN\n",
    "# cycle_data.to_csv('deterioration_rates2.csv', index=False)\n"
   ]
  }
 ],
 "metadata": {
  "kernelspec": {
   "display_name": "base",
   "language": "python",
   "name": "python3"
  },
  "language_info": {
   "codemirror_mode": {
    "name": "ipython",
    "version": 3
   },
   "file_extension": ".py",
   "mimetype": "text/x-python",
   "name": "python",
   "nbconvert_exporter": "python",
   "pygments_lexer": "ipython3",
   "version": "3.9.13"
  }
 },
 "nbformat": 4,
 "nbformat_minor": 2
}
